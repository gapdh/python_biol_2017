{
 "cells": [
  {
   "cell_type": "code",
   "execution_count": 4,
   "metadata": {},
   "outputs": [
    {
     "name": "stdout",
     "output_type": "stream",
     "text": [
      "[['banana', 'banana', 'banana'], ['apple', 'apple'], ['mango'], ['kiwi', 'kiwi', 'kiwi', 'kiwi', 'kiwi']]\n"
     ]
    }
   ],
   "source": [
    "#Úkol1\n",
    "fruits = {'banana':3,'apple':2, 'mango':1, 'kiwi':5}\n",
    "fruits_list = []\n",
    "for ovoce,pocet in fruits.items():\n",
    "    fruits_list.append([ovoce]*pocet)\n",
    "print(fruits_list)"
   ]
  },
  {
   "cell_type": "code",
   "execution_count": 5,
   "metadata": {},
   "outputs": [
    {
     "name": "stdout",
     "output_type": "stream",
     "text": [
      "kiwi\n"
     ]
    }
   ],
   "source": [
    "#Úkol 2 - první varianta (patrně ta očekávaná)\n",
    "fruits = ['banana','apple', 'mango', 'kiwi']\n",
    "fruits.sort(key=len)\n",
    "shortest_fruit = fruits[0]\n",
    "print(shortest_fruit)"
   ]
  },
  {
   "cell_type": "code",
   "execution_count": 6,
   "metadata": {},
   "outputs": [
    {
     "name": "stdout",
     "output_type": "stream",
     "text": [
      "kiwi\n"
     ]
    }
   ],
   "source": [
    "#Úkol 2 - druhá varianta\n",
    "fruits = ['banana','apple', 'mango', 'kiwi']\n",
    "shortest_fruit = min(fruits, key=len)\n",
    "print(shortest_fruit)"
   ]
  },
  {
   "cell_type": "code",
   "execution_count": null,
   "metadata": {
    "collapsed": true
   },
   "outputs": [],
   "source": []
  }
 ],
 "metadata": {
  "kernelspec": {
   "display_name": "Python 3",
   "language": "python",
   "name": "python3"
  },
  "language_info": {
   "codemirror_mode": {
    "name": "ipython",
    "version": 3
   },
   "file_extension": ".py",
   "mimetype": "text/x-python",
   "name": "python",
   "nbconvert_exporter": "python",
   "pygments_lexer": "ipython3",
   "version": "3.6.1"
  }
 },
 "nbformat": 4,
 "nbformat_minor": 2
}
