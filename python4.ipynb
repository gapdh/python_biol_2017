{
 "cells": [
  {
   "cell_type": "code",
   "execution_count": 10,
   "metadata": {},
   "outputs": [
    {
     "name": "stdout",
     "output_type": "stream",
     "text": [
      "0.3\n"
     ]
    }
   ],
   "source": [
    "def nucl_freq(sequence, nucleotide) :\n",
    " freq = sequence.count(nucleotide)/len(sequence)\n",
    " return freq\n",
    " \n",
    "seq = 'ACTGAATGCT'\n",
    "\n",
    "a_freq = nucl_freq(seq, 'A')\n",
    "\n",
    "print(a_freq)"
   ]
  },
  {
   "cell_type": "code",
   "execution_count": 9,
   "metadata": {},
   "outputs": [
    {
     "name": "stdout",
     "output_type": "stream",
     "text": [
      "{'A': 0.3, 'C': 0.2, 'G': 0.2, 'T': 0.3}\n"
     ]
    }
   ],
   "source": [
    "def nucl_freq(sequence, nucleotide) :\n",
    " freq = sequence.count(nucleotide)/len(sequence)\n",
    " return freq\n",
    " \n",
    "def nucl_freq_all(sequence) :\n",
    "  freq_A = nucl_freq(sequence, 'A')\n",
    "  freq_C = nucl_freq(sequence, 'C')\n",
    "  freq_G = nucl_freq(sequence, 'G')\n",
    "  freq_T = nucl_freq(sequence, 'T')\n",
    "  return { 'A' : freq_A, 'C': freq_C, 'G' : freq_G, 'T' : freq_T}\n",
    "\n",
    "seq = 'ACTGAATGCT'\n",
    "\n",
    "freqs = nucl_freq_all(seq)\n",
    "print(freqs)\n"
   ]
  },
  {
   "cell_type": "code",
   "execution_count": null,
   "metadata": {
    "collapsed": true
   },
   "outputs": [],
   "source": []
  }
 ],
 "metadata": {
  "kernelspec": {
   "display_name": "Python 3",
   "language": "python",
   "name": "python3"
  },
  "language_info": {
   "codemirror_mode": {
    "name": "ipython",
    "version": 3
   },
   "file_extension": ".py",
   "mimetype": "text/x-python",
   "name": "python",
   "nbconvert_exporter": "python",
   "pygments_lexer": "ipython3",
   "version": "3.6.1"
  }
 },
 "nbformat": 4,
 "nbformat_minor": 2
}
